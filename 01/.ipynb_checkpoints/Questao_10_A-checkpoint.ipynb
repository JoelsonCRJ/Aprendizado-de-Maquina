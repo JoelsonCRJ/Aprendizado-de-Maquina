{
 "cells": [
  {
   "cell_type": "code",
   "execution_count": 1,
   "metadata": {},
   "outputs": [],
   "source": [
    "import numpy as np\n",
    "import matplotlib.pyplot as plt\n",
    "import math\n",
    "import pandas as pd\n",
    "import random\n",
    "import time\n",
    "from scipy import stats\n",
    "from matplotlib.ticker import NullFormatter\n",
    "from scipy.spatial.distance import mahalanobis\n",
    "%matplotlib inline"
   ]
  },
  {
   "cell_type": "code",
   "execution_count": 10,
   "metadata": {},
   "outputs": [],
   "source": [
    "dados = pd.read_csv('HTRU_2.csv', sep=\",\", header=None)\n",
    "data = dados.values\n"
   ]
  },
  {
   "cell_type": "markdown",
   "metadata": {},
   "source": [
    "todos = []\n",
    "treino = []\n",
    "teste = []\n",
    "label_treino = []\n",
    "label_teste = []\n",
    "\n",
    "for i in range(5):\n",
    "    np.random.shuffle(data)\n",
    "    \n",
    "    todos.append(np.array(data[:,0:-1]))\n",
    "    treino.append(np.array(data[0:6000,0:-1]))\n",
    "    label_treino.append(np.array(data[0:6000,-1]))\n",
    "    teste.append(np.array(data[6000:,0:-1]))\n",
    "    label_teste.append(np.array(data[6000:,-1]))\n",
    "    \n",
    "    \n",
    "label_teste_rocchio = np.zeros(label_teste[0].shape[0])"
   ]
  },
  {
   "cell_type": "code",
   "execution_count": 11,
   "metadata": {},
   "outputs": [
    {
     "ename": "FileNotFoundError",
     "evalue": "[Errno 2] No such file or directory: 'todos.npy'",
     "output_type": "error",
     "traceback": [
      "\u001b[0;31m---------------------------------------------------------------------------\u001b[0m",
      "\u001b[0;31mFileNotFoundError\u001b[0m                         Traceback (most recent call last)",
      "\u001b[0;32m<ipython-input-11-b41b738396b1>\u001b[0m in \u001b[0;36m<module>\u001b[0;34m\u001b[0m\n\u001b[0;32m----> 1\u001b[0;31m \u001b[0mtodos\u001b[0m \u001b[0;34m=\u001b[0m \u001b[0mnp\u001b[0m\u001b[0;34m.\u001b[0m\u001b[0mload\u001b[0m\u001b[0;34m(\u001b[0m\u001b[0;34m'todos.npy'\u001b[0m\u001b[0;34m)\u001b[0m\u001b[0;34m\u001b[0m\u001b[0;34m\u001b[0m\u001b[0m\n\u001b[0m\u001b[1;32m      2\u001b[0m \u001b[0mtreino\u001b[0m \u001b[0;34m=\u001b[0m \u001b[0mnp\u001b[0m\u001b[0;34m.\u001b[0m\u001b[0mload\u001b[0m\u001b[0;34m(\u001b[0m\u001b[0;34m'treino.npy'\u001b[0m\u001b[0;34m)\u001b[0m\u001b[0;34m\u001b[0m\u001b[0;34m\u001b[0m\u001b[0m\n\u001b[1;32m      3\u001b[0m \u001b[0mteste\u001b[0m \u001b[0;34m=\u001b[0m \u001b[0mnp\u001b[0m\u001b[0;34m.\u001b[0m\u001b[0mload\u001b[0m\u001b[0;34m(\u001b[0m\u001b[0;34m'teste.npy'\u001b[0m\u001b[0;34m)\u001b[0m\u001b[0;34m\u001b[0m\u001b[0;34m\u001b[0m\u001b[0m\n\u001b[1;32m      4\u001b[0m \u001b[0mlabel_treino\u001b[0m \u001b[0;34m=\u001b[0m \u001b[0mnp\u001b[0m\u001b[0;34m.\u001b[0m\u001b[0mload\u001b[0m\u001b[0;34m(\u001b[0m\u001b[0;34m'label_treino.npy'\u001b[0m\u001b[0;34m)\u001b[0m\u001b[0;34m\u001b[0m\u001b[0;34m\u001b[0m\u001b[0m\n\u001b[1;32m      5\u001b[0m \u001b[0mlabel_teste\u001b[0m \u001b[0;34m=\u001b[0m \u001b[0mnp\u001b[0m\u001b[0;34m.\u001b[0m\u001b[0mload\u001b[0m\u001b[0;34m(\u001b[0m\u001b[0;34m'label_teste.npy'\u001b[0m\u001b[0;34m)\u001b[0m\u001b[0;34m\u001b[0m\u001b[0;34m\u001b[0m\u001b[0m\n",
      "\u001b[0;32m~/anaconda3/lib/python3.7/site-packages/numpy/lib/npyio.py\u001b[0m in \u001b[0;36mload\u001b[0;34m(file, mmap_mode, allow_pickle, fix_imports, encoding)\u001b[0m\n\u001b[1;32m    413\u001b[0m         \u001b[0mown_fid\u001b[0m \u001b[0;34m=\u001b[0m \u001b[0;32mFalse\u001b[0m\u001b[0;34m\u001b[0m\u001b[0;34m\u001b[0m\u001b[0m\n\u001b[1;32m    414\u001b[0m     \u001b[0;32melse\u001b[0m\u001b[0;34m:\u001b[0m\u001b[0;34m\u001b[0m\u001b[0;34m\u001b[0m\u001b[0m\n\u001b[0;32m--> 415\u001b[0;31m         \u001b[0mfid\u001b[0m \u001b[0;34m=\u001b[0m \u001b[0mopen\u001b[0m\u001b[0;34m(\u001b[0m\u001b[0mos_fspath\u001b[0m\u001b[0;34m(\u001b[0m\u001b[0mfile\u001b[0m\u001b[0;34m)\u001b[0m\u001b[0;34m,\u001b[0m \u001b[0;34m\"rb\"\u001b[0m\u001b[0;34m)\u001b[0m\u001b[0;34m\u001b[0m\u001b[0;34m\u001b[0m\u001b[0m\n\u001b[0m\u001b[1;32m    416\u001b[0m         \u001b[0mown_fid\u001b[0m \u001b[0;34m=\u001b[0m \u001b[0;32mTrue\u001b[0m\u001b[0;34m\u001b[0m\u001b[0;34m\u001b[0m\u001b[0m\n\u001b[1;32m    417\u001b[0m \u001b[0;34m\u001b[0m\u001b[0m\n",
      "\u001b[0;31mFileNotFoundError\u001b[0m: [Errno 2] No such file or directory: 'todos.npy'"
     ]
    }
   ],
   "source": [
    "todos = np.load('todos.npy')\n",
    "treino = np.load('treino.npy')\n",
    "teste = np.load('teste.npy')\n",
    "label_treino = np.load('label_treino.npy')\n",
    "label_teste = np.load('label_teste.npy')"
   ]
  },
  {
   "cell_type": "markdown",
   "metadata": {},
   "source": [
    "# Letra A"
   ]
  },
  {
   "cell_type": "markdown",
   "metadata": {
    "collapsed": true
   },
   "source": [
    "Rocchio com métrica de distância Mahalanobis"
   ]
  },
  {
   "cell_type": "markdown",
   "metadata": {},
   "source": [
    "Função para calcular a acurácia"
   ]
  },
  {
   "cell_type": "code",
   "execution_count": 4,
   "metadata": {},
   "outputs": [],
   "source": [
    "def acuracia(lab, lab_teste):\n",
    "    erros = 0\n",
    "    for i in range(lab.shape[0]):\n",
    "        if lab_teste[i] != lab[i]:\n",
    "            erros = erros + 1\n",
    "    return ((lab_teste.shape[0] - erros)/lab_teste.shape[0])*100"
   ]
  },
  {
   "cell_type": "markdown",
   "metadata": {},
   "source": [
    "Função para calcular a precisão"
   ]
  },
  {
   "cell_type": "code",
   "execution_count": 5,
   "metadata": {},
   "outputs": [],
   "source": [
    "def precisao(lab, lab_teste):\n",
    "    #calculando o numero de amostras classificadas como positivas\n",
    "    positivas = np.where(lab_teste == 1)\n",
    "    TP = positivas[0].shape[0]\n",
    "    #calculando os falsos positivos\n",
    "    FP = 0\n",
    "    for i in range(lab.shape[0]):\n",
    "        if lab_teste[i] == 1 and lab_teste[i] != lab[i]:\n",
    "            FP = FP + 1\n",
    "    return (TP * 100)/(TP+FP)"
   ]
  },
  {
   "cell_type": "markdown",
   "metadata": {},
   "source": [
    "Função para calcular o recall"
   ]
  },
  {
   "cell_type": "code",
   "execution_count": 7,
   "metadata": {},
   "outputs": [],
   "source": [
    "def recall(lab, lab_teste):\n",
    "    #calculando o numero de amostras classificadas como positivas\n",
    "    positivas = np.where(lab_teste == 1)\n",
    "    TP = positivas[0].shape[0]\n",
    "    #calculando os falsos positivos\n",
    "    FN = 0\n",
    "    for i in range(lab.shape[0]):\n",
    "        if lab_teste[i] == 0 and lab_teste[i] != lab[i]:\n",
    "            FN = FN + 1\n",
    "    return (TP * 100)/(TP+FN)"
   ]
  },
  {
   "cell_type": "code",
   "execution_count": 8,
   "metadata": {},
   "outputs": [],
   "source": [
    "#Metrica de mahalanobis\n",
    "def dist_mahalanobis(a,b,cov):\n",
    "    #calculando a matriz de covariancia\n",
    "    cova_inv = np.linalg.inv(cov)\n",
    "    #calculando a-b transposto\n",
    "    a_b_t = np.transpose([a-b])\n",
    "    #calculando a-b * matriz de cov inversa\n",
    "    mult = np.matmul((a-b),cova_inv)\n",
    "    #calculando a-b * matriz de cov inversa * (a-b)T\n",
    "    resul = np.matmul(mult,a_b_t)\n",
    "    return np.sqrt(resul[0])"
   ]
  },
  {
   "cell_type": "code",
   "execution_count": 9,
   "metadata": {},
   "outputs": [],
   "source": [
    "#Função para a distância euclidiana\n",
    "def dis_euclidiana(a, b):\n",
    "    diff = a - b\n",
    "    #eleva ao quadrado\n",
    "    q_dist = np.dot(diff, diff)\n",
    "    dist_a_b = math.sqrt(q_dist)\n",
    "    return dist_a_b"
   ]
  },
  {
   "cell_type": "code",
   "execution_count": 10,
   "metadata": {},
   "outputs": [],
   "source": [
    "def calc_centroides(dados, label, n_classes):\n",
    "    #concatena os dados\n",
    "    \n",
    "    #define a soma inicial\n",
    "    soma_classe = np.zeros((n_classes, dados.shape[1]))\n",
    "    #definindo a matriz de centroides\n",
    "    centroid = np.zeros((n_classes, dados.shape[1]))\n",
    "    #vetor com a quantidade de amostras por classe\n",
    "    q_am_cl = np.zeros(n_classes)\n",
    "    for i in range(n_classes):\n",
    "        for j in range(dados.shape[0]):\n",
    "            if label[j] == i:\n",
    "                soma_classe[i] = soma_classe[i] + dados[j,:]\n",
    "                q_am_cl[i] = q_am_cl[i] + 1\n",
    "        centroid[i] = np.divide(soma_classe[i], q_am_cl[i])\n",
    "    return centroid, q_am_cl"
   ]
  },
  {
   "cell_type": "markdown",
   "metadata": {},
   "source": [
    "# Início do ROCCHIO"
   ]
  },
  {
   "cell_type": "code",
   "execution_count": 11,
   "metadata": {},
   "outputs": [],
   "source": [
    "#funcao para realizar todos os treinamentos\n",
    "def n_rochio(n_trei):\n",
    "    #cria o vetor para os resultados e tempos\n",
    "    results = np.zeros((n_trei,3))\n",
    "    tempos = np.zeros(n_trei)\n",
    "    medias = np.zeros(3)\n",
    "    \n",
    "    #contagem dos treinamentos\n",
    "    for i in range(n_trei):\n",
    "\n",
    "        label_teste_rocchio = np.zeros(label_teste[i].shape[0])\n",
    "        \n",
    "        #treinamentos\n",
    "        inicio = time.time()\n",
    "        #Encontrando a covariancia entre os dados de treino\n",
    "        media = np.mean(treino[i],axis=0)\n",
    "        matriz_media_zero = treino[i] - media\n",
    "        matriz_media_zero_t = np.transpose(matriz_media_zero)\n",
    "        covariancia = (1/((matriz_media_zero.shape[0])-1))*np.matmul(matriz_media_zero_t,matriz_media_zero)\n",
    "        var_inv = np.linalg.inv(covariancia)\n",
    "        \n",
    "        #calculando os ccentroids\n",
    "        centroid, q = calc_centroides(treino[i], label_treino[i], 2)\n",
    "        #Algoritmo rocchio\n",
    "        dist_a_b = np.zeros((label_teste[i].shape[0], centroid.shape[0]))\n",
    "        for j in range(label_teste[i].shape[0]):\n",
    "            a = teste[i][j,:]\n",
    "            for k in range(centroid.shape[0]):\n",
    "                b = centroid[k,:]\n",
    "                #dist_a_b[j][k] = mahalanobis(a,b,var_inv)\n",
    "                dist_a_b[j][k] = dist_mahalanobis(a,b,covariancia)\n",
    "                #dist_a_b[j][k] = dis_euclidiana(a,b)\n",
    "            #encontrando o indice da menor distância    \n",
    "            ind_dist_a_b = np.argmin(dist_a_b[j,:], axis=0)\n",
    "            label_teste_rocchio[j] = ind_dist_a_b   \n",
    "        fim = time.time()\n",
    "        tempos[i] = (fim - inicio)\n",
    "        print(\"Tempo de execução do treinamento \" + str(i+1) + \": \" + str(fim - inicio) + \" segundos\")\n",
    "        \n",
    "        #calculando os resultados\n",
    "        results[i,0] = acuracia(label_teste[i],label_teste_rocchio)\n",
    "        print(results[i,0])\n",
    "        results[i,1] = precisao(label_teste[i],label_teste_rocchio)\n",
    "        results[i,2] = recall(label_teste[i],label_teste_rocchio)\n",
    "        \n",
    "    #imprimindo o tempo total medio\n",
    "    print(\"Tempo médio: \" + str(np.mean(tempos)) + \" segundos\")\n",
    "    \n",
    "    #calculando as médias\n",
    "    medias[0] = np.mean(results[:,0])\n",
    "    medias[1] = np.mean(results[:,1])\n",
    "    medias[2] = np.mean(results[:,2])\n",
    "    \n",
    "    #imprimindo os resultados\n",
    "    xBar = np.arange(3)\n",
    "    plt.bar(xBar, medias, color='blue', align='center')                 \n",
    "    plt.ylabel('0 a 100 %')\n",
    "    plt.title('Resultados das médias - Rocchio')\n",
    "    plt.xticks(xBar, ('Acurácia', 'Precisão', 'Recall'))\n",
    "    for i in range(xBar.shape[0]):\n",
    "        plt.text(xBar[i]-0.25, medias[i], '{:.2f}'.format(medias[i]), bbox=dict(facecolor='red', alpha=0.5))\n",
    "    plt.savefig(\"figuras/10A_1.png\", dpi=200)   \n",
    "    return medias, tempos"
   ]
  },
  {
   "cell_type": "code",
   "execution_count": 7,
   "metadata": {},
   "outputs": [
    {
     "ename": "NameError",
     "evalue": "name 'n_rochio' is not defined",
     "output_type": "error",
     "traceback": [
      "\u001b[0;31m---------------------------------------------------------------------------\u001b[0m",
      "\u001b[0;31mNameError\u001b[0m                                 Traceback (most recent call last)",
      "\u001b[0;32m<ipython-input-7-0d5de550a05d>\u001b[0m in \u001b[0;36m<module>\u001b[0;34m\u001b[0m\n\u001b[0;32m----> 1\u001b[0;31m \u001b[0mresultado_rochio\u001b[0m\u001b[0;34m,\u001b[0m \u001b[0mtt_rochio\u001b[0m \u001b[0;34m=\u001b[0m \u001b[0mn_rochio\u001b[0m\u001b[0;34m(\u001b[0m\u001b[0;36m5\u001b[0m\u001b[0;34m)\u001b[0m\u001b[0;34m\u001b[0m\u001b[0;34m\u001b[0m\u001b[0m\n\u001b[0m",
      "\u001b[0;31mNameError\u001b[0m: name 'n_rochio' is not defined"
     ]
    }
   ],
   "source": [
    "resultado_rochio, tt_rochio = n_rochio(5)"
   ]
  },
  {
   "cell_type": "markdown",
   "metadata": {},
   "source": [
    "# Letra B"
   ]
  },
  {
   "cell_type": "markdown",
   "metadata": {},
   "source": [
    "kNN com métrica de distância Euclidiana. Para selecionar o melhor valor de k divida a base de treinamento em duas partes iguais: uma para treinar e a outra para validar e encontrar o melhor valor de k;"
   ]
  },
  {
   "cell_type": "markdown",
   "metadata": {},
   "source": [
    "Algoritmo KNN"
   ]
  },
  {
   "cell_type": "code",
   "execution_count": 13,
   "metadata": {},
   "outputs": [],
   "source": [
    "#Algoritmo KNN\n",
    "def algo_knn(kk, dados_treino, dados_teste, label_treino):\n",
    "    label_teste_knn = np.zeros(dados_teste.shape[0])\n",
    "    #cria a matriz para adicionar as distancias\n",
    "    dist_a_b = np.zeros((dados_treino.shape[0],2))\n",
    "    for i in range(dados_teste.shape[0]):\n",
    "        a = dados_teste[i,:]\n",
    "        for j in range(dados_treino.shape[0]):\n",
    "            b = dados_treino[j,:]\n",
    "            dist_a_b[j,0] = dis_euclidiana(a,b)\n",
    "            dist_a_b[j,1] = label_treino[j]\n",
    "\n",
    "        dist_crescente = dist_a_b[dist_a_b[:,0].argsort()]\n",
    "        #encontrando as k indice da menor distância\n",
    "        ind=stats.mode(dist_crescente[0:kk,1])\n",
    "        label_teste_knn[i] = ind[0][0]\n",
    "    return label_teste_knn"
   ]
  },
  {
   "cell_type": "markdown",
   "metadata": {},
   "source": [
    "Função que calcula as acurácias para escolher o melhor valor de K"
   ]
  },
  {
   "cell_type": "code",
   "execution_count": 14,
   "metadata": {},
   "outputs": [],
   "source": [
    "#Algoritmo melhor k\n",
    "def melhor_k(dados_treino, dados_teste, label_treino):\n",
    "    #cria a matriz para adicionar as distancias\n",
    "    dist_a_b = np.zeros((dados_treino.shape[0],2))\n",
    "    dist_crescente  = []\n",
    "    for i in range(dados_teste.shape[0]):\n",
    "        a = dados_teste[i,:]\n",
    "        for j in range(dados_treino.shape[0]):\n",
    "            b = dados_treino[j,:]\n",
    "            dist_a_b[j,0] = dis_euclidiana(a,b)\n",
    "            dist_a_b[j,1] = label_treino[j]\n",
    "\n",
    "        dist_crescente.append(dist_a_b[dist_a_b[:,0].argsort()])\n",
    "    return np.array(dist_crescente)"
   ]
  },
  {
   "cell_type": "code",
   "execution_count": 15,
   "metadata": {},
   "outputs": [],
   "source": [
    "#encontrando o melhor valor de k\n",
    "def escolher_m_k(maxx, label, treino_melhor_k, teste_melhor_k, label_treino_m_k):\n",
    "    distan = melhor_k(treino_melhor_k,teste_melhor_k, label_treino_m_k)\n",
    "    label_teste_m_k = np.zeros(teste_melhor_k.shape[0])\n",
    "    acur_k = []\n",
    "    pre_k = []\n",
    "    rec_k = []\n",
    "    for i in range(1,maxx+1,2):        \n",
    "        for j in range(teste_melhor_k.shape[0]):\n",
    "            ind=stats.mode(distan[j][0:i,1])\n",
    "            label_teste_m_k[j] = ind[0][0]            \n",
    "        acur = acuracia(label,label_teste_m_k)\n",
    "        pre = precisao(label,label_teste_m_k)\n",
    "        rec = recall(label,label_teste_m_k)\n",
    "        acur_k.append(acur)\n",
    "        pre_k.append(pre)\n",
    "        rec_k.append(rec)\n",
    "    return acur_k, pre_k, rec_k"
   ]
  },
  {
   "cell_type": "markdown",
   "metadata": {},
   "source": [
    "Fazendo a escolha do melhor valor de K iniciando com 1 e terminando com 11 vizinhos mais próximos"
   ]
  },
  {
   "cell_type": "code",
   "execution_count": 16,
   "metadata": {},
   "outputs": [],
   "source": [
    "#Iniciar a rotina dos 5 treinamentos\n",
    "def treinamento_knn(knn, n_trei):\n",
    "    #cria o vetor para os resultados e tempos\n",
    "    results = np.zeros((n_trei,3))\n",
    "    tempos = np.zeros(n_trei)\n",
    "    medias = np.zeros(3)\n",
    "    val_k = []\n",
    "    #contagem dos treinamentos\n",
    "    for i in range(n_trei):\n",
    "        inicio = time.time()\n",
    "        \n",
    "        #gera dados para o melhor k\n",
    "        treino_melhor_k = treino[i][0:3000,:]\n",
    "        label_treino_m_k = label_treino[i][0:3000]\n",
    "        teste_melhor_k = treino[i][3000:,:]\n",
    "        label_teste_m_k = label_treino[i][3000:]\n",
    "        \n",
    "        #Encontrar o melhor valor de k\n",
    "        acurrr, pree_k, rece_k = escolher_m_k(knn, label_teste_m_k, treino_melhor_k, teste_melhor_k, label_treino_m_k)\n",
    "        #Soma as medidas para definir o maior k\n",
    "        soma = []\n",
    "        for j in range(len(acurrr)):\n",
    "            soma.append(acurrr[j] + pree_k[j] + rece_k[j])\n",
    "        #encontar a maior soma\n",
    "        ind = acurrr.index(max(acurrr))\n",
    "        val_k.append(ind+(ind+1))\n",
    "        \n",
    "        #treinamentos\n",
    "        \n",
    "        testado = algo_knn(val_k[i], treino[i], teste[i], label_treino[i])\n",
    "        fim = time.time()\n",
    "        tempos[i] = (fim - inicio)\n",
    "        print(\"Tempo de execução do treinamento \" + str(i+1) + \": \" + str(fim - inicio) + \" segundos\")\n",
    "        \n",
    "        #calculando os resultados\n",
    "        results[i,0] = acuracia(label_teste[i],testado)\n",
    "        results[i,1] = precisao(label_teste[i],testado)\n",
    "        results[i,2] = recall(label_teste[i],testado)\n",
    "        \n",
    "    #imprimindo o tempo total medio\n",
    "    print(\"Tempo médio: \" + str(np.mean(tempos)) + \" segundos\")\n",
    "    \n",
    "    #calculando as médias\n",
    "    medias[0] = np.mean(results[:,0])\n",
    "    medias[1] = np.mean(results[:,1])\n",
    "    medias[2] = np.mean(results[:,2])\n",
    "    \n",
    "    #imprimindo os resultados\n",
    "    xBar = np.arange(3)\n",
    "    plt.bar(xBar, medias, color='blue', align='center')                 \n",
    "    plt.ylabel('0 a 100 %')\n",
    "    plt.title('Resultados das médias')\n",
    "    plt.xticks(xBar, ('Acurácia', 'Precisão', 'Recall'))\n",
    "    for i in range(xBar.shape[0]):\n",
    "        plt.text(xBar[i]-0.25, medias[i], '{:.2f}'.format(medias[i]), bbox=dict(facecolor='red', alpha=0.5))\n",
    "        \n",
    "    plt.savefig(\"figuras/10b_1.png\", dpi=200)  \n",
    "    return medias, tempos, val_k"
   ]
  },
  {
   "cell_type": "code",
   "execution_count": null,
   "metadata": {
    "scrolled": true
   },
   "outputs": [
    {
     "name": "stdout",
     "output_type": "stream",
     "text": [
      "Tempo de execução do treinamento 1: 104.053866863 segundos\n"
     ]
    }
   ],
   "source": [
    "resultado_med, tt, valores_k = treinamento_knn(11, 5)"
   ]
  },
  {
   "cell_type": "code",
   "execution_count": 34,
   "metadata": {},
   "outputs": [
    {
     "data": {
      "text/plain": [
       "[9, 3, 7, 5, 7]"
      ]
     },
     "execution_count": 34,
     "metadata": {},
     "output_type": "execute_result"
    }
   ],
   "source": [
    "valores_k"
   ]
  },
  {
   "cell_type": "code",
   "execution_count": 44,
   "metadata": {},
   "outputs": [
    {
     "data": {
      "text/plain": [
       "array([192.46868277, 190.99117327, 192.51561522, 190.53970671,\n",
       "       193.3212831 ])"
      ]
     },
     "execution_count": 44,
     "metadata": {},
     "output_type": "execute_result"
    }
   ],
   "source": [
    "tt"
   ]
  },
  {
   "cell_type": "markdown",
   "metadata": {
    "collapsed": true
   },
   "source": [
    "# Letra C"
   ]
  },
  {
   "cell_type": "markdown",
   "metadata": {},
   "source": [
    "Edit KNN - Metodo de inserção"
   ]
  },
  {
   "cell_type": "code",
   "execution_count": 35,
   "metadata": {
    "collapsed": true
   },
   "outputs": [],
   "source": [
    "#função que gera as amostras iniciais\n",
    "def amostras_inic(k, trei, l_trei):\n",
    "    am_inic = random.sample(range(0,trei.shape[0]+1),k)\n",
    "    D = []\n",
    "    D_lab = []\n",
    "    for i in range(k):\n",
    "        D.append(trei[am_inic[i],:])\n",
    "        D_lab.append(l_trei[am_inic[i]])\n",
    "    \n",
    "    return D, D_lab"
   ]
  },
  {
   "cell_type": "code",
   "execution_count": 36,
   "metadata": {
    "collapsed": true
   },
   "outputs": [],
   "source": [
    "#gera dados para o edit-knn inserção sequencial\n",
    "def editknn_inser(vk, am_trei, l_trei):\n",
    "    #base de dados\n",
    "    treinamento = np.copy(am_trei)\n",
    "    #label da base de dados\n",
    "    label = np.copy(l_trei)\n",
    "    #conjuntos iniciais\n",
    "    d, dlab = amostras_inic(vk, am_trei, l_trei)\n",
    "    n=0\n",
    "    while treinamento.shape[0] != 0:\n",
    "        amostra = random.randint(0,treinamento.shape[0]-1)\n",
    "        lab_t = algo_knn(vk, np.array(d), np.array([treinamento[amostra,:]]), np.array(dlab))\n",
    "        \n",
    "        if lab_t[0] != label[amostra]:\n",
    "            d.append(treinamento[amostra,:])\n",
    "            dlab.append(label[amostra])\n",
    "        else:\n",
    "            treinamento = np.delete(treinamento, (amostra), axis=0)\n",
    "            label = np.delete(label, (amostra), axis=0)\n",
    "        n=n+1\n",
    "    print('Foram selecionadas ' + str(len(d)) + ' amostras ')\n",
    "    return np.array(d), np.array(dlab)"
   ]
  },
  {
   "cell_type": "code",
   "execution_count": 39,
   "metadata": {
    "collapsed": true
   },
   "outputs": [],
   "source": [
    "#Iniciar a rotina dos 5 treinamentos do edit-knn\n",
    "def treinamento_knn(nk, n_trei):\n",
    "    #cria o vetor para os resultados e tempos\n",
    "    results = np.zeros((n_trei,3))\n",
    "    tempos = np.zeros(n_trei)\n",
    "    medias = np.zeros(3)\n",
    "    #contagem dos treinamentos\n",
    "    for i in range(n_trei):        \n",
    "        treino_edit, label_treino_edit = editknn_inser(1, treino[i], label_treino[i])\n",
    "        \n",
    "        #treinamentos\n",
    "        inicio = time.time()\n",
    "        testado = algo_knn(nk[i], treino_edit, teste[i], label_treino_edit)\n",
    "        fim = time.time()\n",
    "        tempos[i] = (fim - inicio)\n",
    "        print(\"Tempo de execução do treinamento \" + str(i+1) + \": \" + str(fim - inicio) + \" segundos\")\n",
    "        \n",
    "        #calculando os resultados\n",
    "        results[i,0] = acuracia(label_teste[i],testado)\n",
    "        results[i,1] = precisao(label_teste[i],testado)\n",
    "        results[i,2] = recall(label_teste[i],testado)\n",
    "        \n",
    "    #imprimindo o tempo total medio\n",
    "    print(\"Tempo médio: \" + str(np.mean(tempos)) + \" segundos\")\n",
    "    \n",
    "    #calculando as médias\n",
    "    medias[0] = np.mean(results[:,0])\n",
    "    medias[1] = np.mean(results[:,1])\n",
    "    medias[2] = np.mean(results[:,2])\n",
    "    \n",
    "    #imprimindo os resultados\n",
    "    xBar = np.arange(3)\n",
    "    plt.bar(xBar, medias, color='blue', align='center')                 \n",
    "    plt.ylabel('0 a 100 %')\n",
    "    plt.title('Resultados das médias')\n",
    "    plt.xticks(xBar, ('Acurácia', 'Precisão', 'Recall'))\n",
    "    for i in range(xBar.shape[0]):\n",
    "        plt.text(xBar[i]-0.25, medias[i], '{:.2f}'.format(medias[i]), bbox=dict(facecolor='red', alpha=0.5))\n",
    "    \n",
    "    plt.savefig(\"figuras/10C_1.png\", dpi=200)     \n",
    "    return medias, tempos, results"
   ]
  },
  {
   "cell_type": "code",
   "execution_count": 40,
   "metadata": {},
   "outputs": [
    {
     "name": "stdout",
     "output_type": "stream",
     "text": [
      "Foram selecionadas 480 amostras \n",
      "Tempo de execução do treinamento 1: 15.649142503738403 segundos\n",
      "Foram selecionadas 438 amostras \n",
      "Tempo de execução do treinamento 2: 13.23389196395874 segundos\n",
      "Foram selecionadas 433 amostras \n",
      "Tempo de execução do treinamento 3: 13.33689570426941 segundos\n",
      "Foram selecionadas 476 amostras \n",
      "Tempo de execução do treinamento 4: 15.050054550170898 segundos\n",
      "Foram selecionadas 472 amostras \n",
      "Tempo de execução do treinamento 5: 15.02315902709961 segundos\n",
      "Tempo médio: 14.458628749847412 segundos\n"
     ]
    },
    {
     "data": {
      "image/png": "[encoded data removed]",
      "text/plain": [
       "<matplotlib.figure.Figure at 0x23046e9c3c8>"
      ]
     },
     "metadata": {},
     "output_type": "display_data"
    }
   ],
   "source": [
    "resultado_medias_edit, tt_edit, resultado_val_edit = treinamento_knn(valores_k, 5)"
   ]
  },
  {
   "cell_type": "code",
   "execution_count": 42,
   "metadata": {},
   "outputs": [
    {
     "data": {
      "text/plain": [
       "array([[96.9070432 , 91.88345473, 75.27706735],\n",
       "       [95.66313666, 82.43978244, 78.53441895],\n",
       "       [96.52882837, 87.84029038, 77.62630313],\n",
       "       [96.5540427 , 87.38738739, 78.22580645],\n",
       "       [96.64649521, 88.73499538, 77.62520194]])"
      ]
     },
     "execution_count": 42,
     "metadata": {},
     "output_type": "execute_result"
    }
   ],
   "source": [
    "resultado_val_edit"
   ]
  },
  {
   "cell_type": "code",
   "execution_count": 43,
   "metadata": {},
   "outputs": [
    {
     "data": {
      "text/plain": [
       "array([15.6491425 , 13.23389196, 13.3368957 , 15.05005455, 15.02315903])"
      ]
     },
     "execution_count": 43,
     "metadata": {},
     "output_type": "execute_result"
    }
   ],
   "source": [
    "tt_edit"
   ]
  },
  {
   "cell_type": "code",
   "execution_count": null,
   "metadata": {
    "collapsed": true
   },
   "outputs": [],
   "source": []
  }
 ],
 "metadata": {
  "kernelspec": {
   "display_name": "Python 3",
   "language": "python",
   "name": "python3"
  },
  "language_info": {
   "codemirror_mode": {
    "name": "ipython",
    "version": 3
   },
   "file_extension": ".py",
   "mimetype": "text/x-python",
   "name": "python",
   "nbconvert_exporter": "python",
   "pygments_lexer": "ipython3",
   "version": "3.7.3"
  }
 },
 "nbformat": 4,
 "nbformat_minor": 2
}
